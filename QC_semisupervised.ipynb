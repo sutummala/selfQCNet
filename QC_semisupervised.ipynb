{
  "cells": [
    {
      "cell_type": "markdown",
      "metadata": {
        "id": "view-in-github",
        "colab_type": "text"
      },
      "source": [
        "<a href=\"https://colab.research.google.com/github/sutummala/selfQCNet/blob/main/QC_semisupervised.ipynb\" target=\"_parent\"><img src=\"https://colab.research.google.com/assets/colab-badge.svg\" alt=\"Open In Colab\"/></a>"
      ]
    },
    {
      "cell_type": "markdown",
      "metadata": {
        "id": "c7mKdSrogTuq"
      },
      "source": [
        "## Load the drive and required libraries"
      ]
    },
    {
      "cell_type": "code",
      "execution_count": null,
      "metadata": {
        "colab": {
          "base_uri": "https://localhost:8080/"
        },
        "id": "Ng-GhXnNUWmi",
        "outputId": "550f2efe-b910-4346-93b0-b1a0b6bdcc66"
      },
      "outputs": [
        {
          "output_type": "stream",
          "name": "stdout",
          "text": [
            "Mounted at /content/drive\n"
          ]
        }
      ],
      "source": [
        "from google.colab import drive\n",
        "drive.mount('/content/drive')"
      ]
    },
    {
      "cell_type": "code",
      "execution_count": null,
      "metadata": {
        "id": "V46Ia_BXUa4j"
      },
      "outputs": [],
      "source": [
        "from tensorflow.keras.layers import BatchNormalization\n",
        "from tensorflow.keras.layers import Conv3D\n",
        "from tensorflow.keras.layers import GlobalAveragePooling3D\n",
        "from tensorflow.keras.layers import Conv3DTranspose\n",
        "from tensorflow.keras.layers import MaxPooling3D\n",
        "from tensorflow.keras.layers import LeakyReLU\n",
        "from tensorflow.keras.layers import Activation\n",
        "from tensorflow.keras.layers import Flatten\n",
        "from tensorflow.keras.layers import UpSampling3D\n",
        "from tensorflow.keras import regularizers\n",
        "from tensorflow.keras.layers import Dense\n",
        "from tensorflow.keras.layers import Reshape\n",
        "from tensorflow.keras.layers import Dropout\n",
        "from tensorflow.keras.layers import Input\n",
        "from tensorflow.keras.models import Model\n",
        "import matplotlib.pyplot as plt\n",
        "import os\n",
        "from tensorflow.keras.optimizers import Adamax\n",
        "from tensorflow.keras import backend as K\n",
        "import numpy as np\n",
        "import tensorflow as tf\n",
        "from sklearn.metrics import roc_curve, roc_auc_score,accuracy_score\n",
        "from sklearn.metrics import f1_score, precision_score, recall_score, matthews_corrcoef, balanced_accuracy_score\n",
        "from sklearn.metrics import classification_report\n",
        "from sklearn.metrics import auc"
      ]
    },
    {
      "cell_type": "markdown",
      "source": [
        "## Normalization"
      ],
      "metadata": {
        "id": "mMu12hpMdbcV"
      }
    },
    {
      "cell_type": "code",
      "execution_count": null,
      "metadata": {
        "id": "UgS9iUB0YPFo"
      },
      "outputs": [],
      "source": [
        "# normalizing the input to have values between zero and one to make them suitable for further analysis\n",
        "def normalize(input):\n",
        "  norm_input = []\n",
        "  print(f'shape of input is {np.shape(input[0])}')\n",
        "  for i in range(np.shape(input)[0]):\n",
        "    norm_in = (input[i]-np.min(input[i]))/(np.max(input[i])-np.min(input[i]))\n",
        "    norm_input.append(norm_in)\n",
        "  return np.array(norm_input)"
      ]
    },
    {
      "cell_type": "markdown",
      "source": [
        "## cropping"
      ],
      "metadata": {
        "id": "bX1-uzBFdfMM"
      }
    },
    {
      "cell_type": "code",
      "execution_count": null,
      "metadata": {
        "id": "zQaY18DfsGol"
      },
      "outputs": [],
      "source": [
        "def crop_input(input, d_s_factor):\n",
        "  \n",
        "  if d_s_factor == 2:\n",
        "    input = input[:, 6:86, 6:102, 6:86]\n",
        "  elif d_s_factor == 4:\n",
        "    input = input[:, 3:43, 4:52, 3:43]\n",
        "\n",
        "  return input"
      ]
    },
    {
      "cell_type": "markdown",
      "source": [
        "## Load the required correctly aligned and artifically misaligned images"
      ],
      "metadata": {
        "id": "a6XAbanSe0kK"
      }
    },
    {
      "cell_type": "code",
      "execution_count": null,
      "metadata": {
        "colab": {
          "base_uri": "https://localhost:8080/"
        },
        "id": "jujCyJkdVIua",
        "outputId": "a951276f-d560-4891-d609-c7a1ffd5414b"
      },
      "outputs": [
        {
          "output_type": "stream",
          "name": "stdout",
          "text": [
            "(215, 91, 109, 91)\n",
            "values before normalization -26.19167 830.7939\n",
            "shape of input is (80, 96, 80, 1)\n",
            "(215, 80, 96, 80, 1)\n",
            "values after normalization 0.0 1.0\n"
          ]
        }
      ],
      "source": [
        "t1_align = np.load('/content/drive/MyDrive/UnsupervisedQC/T1-mni-dsf2.npy')\n",
        "t1_align = np.float32(t1_align)\n",
        "print(t1_align.shape)\n",
        "t1_align = crop_input(t1_align, 2)\n",
        "t1_align = np.expand_dims(t1_align, axis = -1)\n",
        "\n",
        "print('values before normalization', np.min(t1_align[0]), np.max(t1_align[0]))\n",
        "t1_align_norm = normalize(t1_align)\n",
        "print(t1_align_norm.shape)\n",
        "print('values after normalization', np.min(t1_align_norm[0]), np.max(t1_align_norm[0]))\n",
        "del t1_align"
      ]
    },
    {
      "cell_type": "code",
      "execution_count": null,
      "metadata": {
        "colab": {
          "base_uri": "https://localhost:8080/"
        },
        "id": "bXaC72ai8ZWi",
        "outputId": "5048b254-dfc0-41b1-e728-5505b4f87327"
      },
      "outputs": [
        {
          "output_type": "stream",
          "name": "stdout",
          "text": [
            "values before normalization -306.92776 3532.389\n",
            "shape of input is (80, 96, 80, 1)\n",
            "(250, 80, 96, 80, 1)\n",
            "values after normalization 0.0 1.0\n"
          ]
        }
      ],
      "source": [
        "t1_align_f = np.load('/content/drive/MyDrive/UnsupervisedQC/T1-mni-HCP-am-250threshold.npy')\n",
        "t1_align_f = np.float32(t1_align_f)\n",
        "t1_align_f = crop_input(t1_align_f, 2)\n",
        "t1_align_f = np.expand_dims(t1_align_f, axis = -1)\n",
        "\n",
        "print('values before normalization', np.min(t1_align_f[0]), np.max(t1_align_f[0]))\n",
        "t1_align_f_norm = normalize(t1_align_f)\n",
        "print(t1_align_f_norm.shape)\n",
        "print('values after normalization', np.min(t1_align_f_norm[0]), np.max(t1_align_f_norm[0]))\n",
        "del t1_align_f"
      ]
    },
    {
      "cell_type": "markdown",
      "metadata": {
        "id": "hF2pj_qWJwSA"
      },
      "source": [
        "## Model creation"
      ]
    },
    {
      "cell_type": "code",
      "execution_count": null,
      "metadata": {
        "id": "MEgRPAc1aSlm"
      },
      "outputs": [],
      "source": [
        "activation = tf.keras.activations.relu\n",
        "kernal_initializer = tf.keras.initializers.glorot_normal\n",
        "loss = tf.keras.losses.MeanSquaredError()"
      ]
    },
    {
      "cell_type": "code",
      "execution_count": null,
      "metadata": {
        "id": "xB8XEU_sLTBB"
      },
      "outputs": [],
      "source": [
        "def create_model_single_conv_noupsamp(input_shape):\n",
        "  input_layer = Input(shape=input_shape, dtype=\"float32\", name=\"INPUT\")\n",
        "\n",
        "  x = Conv3D(32, (3, 3, 3), strides=(1, 1, 1), padding=\"same\", kernel_initializer=kernal_initializer)(input_layer)\n",
        "  x = BatchNormalization()(x)\n",
        "  x = Activation(activation)(x)\n",
        "  x = MaxPooling3D(strides=2)(x)\n",
        "\n",
        "  x = Conv3D(64, (3, 3, 3), strides=(1, 1, 1), padding=\"same\", kernel_initializer=kernal_initializer)(x)\n",
        "  x = BatchNormalization()(x)\n",
        "  x = Activation(activation)(x)\n",
        "  x = MaxPooling3D(strides=2)(x)\n",
        "\n",
        "  x = Conv3D(128, (3, 3, 3), strides=(1, 1, 1), padding=\"same\", kernel_initializer=kernal_initializer)(x)\n",
        "  x = BatchNormalization()(x)\n",
        "  x = Activation(activation)(x)\n",
        "  x = MaxPooling3D(strides=2)(x)\n",
        "\n",
        "  volumeSize = K.int_shape(x)\n",
        "  x = Flatten()(x)\n",
        "\n",
        "  x = Dense(256, activation=activation, kernel_initializer=tf.keras.initializers.glorot_normal, activity_regularizer=regularizers.l2(1e-05))(x)\n",
        "\n",
        "  x = Dense(128, activation=activation, kernel_initializer=tf.keras.initializers.glorot_normal,  activity_regularizer=regularizers.l2(1e-05), name=\"CODE\")(x)\n",
        "\n",
        "  x = Dense(256, activation=activation, kernel_initializer=tf.keras.initializers.glorot_normal, activity_regularizer=regularizers.l2(1e-05))(x)\n",
        "\n",
        "  x = Dense(np.prod(volumeSize[1:]), kernel_initializer=tf.keras.initializers.glorot_normal)(x)\n",
        "\n",
        "  x = Reshape((volumeSize[1], volumeSize[2], volumeSize[3], volumeSize[4]))(x)\n",
        "  \n",
        "  x = UpSampling3D(size = (2, 2, 2))(x)\n",
        "  x = Conv3D(128, (3, 3, 3), strides=(1, 1, 1), padding=\"same\", kernel_initializer=kernal_initializer)(x)\n",
        "  x = BatchNormalization()(x)\n",
        "  x = Activation(activation)(x)\n",
        "  \n",
        "  x = UpSampling3D(size = (2, 2, 2))(x)\n",
        "  x = Conv3D(64, (3, 3, 3), strides=(1, 1, 1), padding=\"same\", kernel_initializer=kernal_initializer)(x)\n",
        "  x = BatchNormalization()(x)\n",
        "  x = Activation(activation)(x)\n",
        "  \n",
        "  x = UpSampling3D(size = (2, 2, 2))(x)\n",
        "  x = Conv3D(32, (3, 3, 3), strides=(1, 1, 1), padding=\"same\", kernel_initializer=kernal_initializer)(x)\n",
        "  x = BatchNormalization()(x)\n",
        "  x = Activation(activation)(x)\n",
        "  \n",
        "\n",
        "  x = Conv3D(1, (3, 3, 3), strides=(1, 1, 1),  padding=\"same\", kernel_initializer=kernal_initializer, name = \"OUTPUT\")(x)\n",
        "  x = Activation(tf.keras.activations.sigmoid)(x)\n",
        "\n",
        "  autoencoder = Model(input_layer, x)\n",
        "  autoencoder.summary()\n",
        "\n",
        "  print(\"Model created successfully\")\n",
        "  return autoencoder"
      ]
    },
    {
      "cell_type": "code",
      "execution_count": null,
      "metadata": {
        "colab": {
          "base_uri": "https://localhost:8080/"
        },
        "id": "me4QPS68aled",
        "outputId": "56608219-2dad-42ca-ee8f-ab63327ea179"
      },
      "outputs": [
        {
          "output_type": "stream",
          "name": "stdout",
          "text": [
            "Model: \"model\"\n",
            "_________________________________________________________________\n",
            " Layer (type)                Output Shape              Param #   \n",
            "=================================================================\n",
            " INPUT (InputLayer)          [(None, 80, 96, 80, 1)]   0         \n",
            "                                                                 \n",
            " conv3d (Conv3D)             (None, 80, 96, 80, 32)    896       \n",
            "                                                                 \n",
            " batch_normalization (BatchN  (None, 80, 96, 80, 32)   128       \n",
            " ormalization)                                                   \n",
            "                                                                 \n",
            " activation (Activation)     (None, 80, 96, 80, 32)    0         \n",
            "                                                                 \n",
            " max_pooling3d (MaxPooling3D  (None, 40, 48, 40, 32)   0         \n",
            " )                                                               \n",
            "                                                                 \n",
            " conv3d_1 (Conv3D)           (None, 40, 48, 40, 64)    55360     \n",
            "                                                                 \n",
            " batch_normalization_1 (Batc  (None, 40, 48, 40, 64)   256       \n",
            " hNormalization)                                                 \n",
            "                                                                 \n",
            " activation_1 (Activation)   (None, 40, 48, 40, 64)    0         \n",
            "                                                                 \n",
            " max_pooling3d_1 (MaxPooling  (None, 20, 24, 20, 64)   0         \n",
            " 3D)                                                             \n",
            "                                                                 \n",
            " conv3d_2 (Conv3D)           (None, 20, 24, 20, 128)   221312    \n",
            "                                                                 \n",
            " batch_normalization_2 (Batc  (None, 20, 24, 20, 128)  512       \n",
            " hNormalization)                                                 \n",
            "                                                                 \n",
            " activation_2 (Activation)   (None, 20, 24, 20, 128)   0         \n",
            "                                                                 \n",
            " max_pooling3d_2 (MaxPooling  (None, 10, 12, 10, 128)  0         \n",
            " 3D)                                                             \n",
            "                                                                 \n",
            " flatten (Flatten)           (None, 153600)            0         \n",
            "                                                                 \n",
            " dense (Dense)               (None, 256)               39321856  \n",
            "                                                                 \n",
            " CODE (Dense)                (None, 128)               32896     \n",
            "                                                                 \n",
            " dense_1 (Dense)             (None, 256)               33024     \n",
            "                                                                 \n",
            " dense_2 (Dense)             (None, 153600)            39475200  \n",
            "                                                                 \n",
            " reshape (Reshape)           (None, 10, 12, 10, 128)   0         \n",
            "                                                                 \n",
            " up_sampling3d (UpSampling3D  (None, 20, 24, 20, 128)  0         \n",
            " )                                                               \n",
            "                                                                 \n",
            " conv3d_3 (Conv3D)           (None, 20, 24, 20, 128)   442496    \n",
            "                                                                 \n",
            " batch_normalization_3 (Batc  (None, 20, 24, 20, 128)  512       \n",
            " hNormalization)                                                 \n",
            "                                                                 \n",
            " activation_3 (Activation)   (None, 20, 24, 20, 128)   0         \n",
            "                                                                 \n",
            " up_sampling3d_1 (UpSampling  (None, 40, 48, 40, 128)  0         \n",
            " 3D)                                                             \n",
            "                                                                 \n",
            " conv3d_4 (Conv3D)           (None, 40, 48, 40, 64)    221248    \n",
            "                                                                 \n",
            " batch_normalization_4 (Batc  (None, 40, 48, 40, 64)   256       \n",
            " hNormalization)                                                 \n",
            "                                                                 \n",
            " activation_4 (Activation)   (None, 40, 48, 40, 64)    0         \n",
            "                                                                 \n",
            " up_sampling3d_2 (UpSampling  (None, 80, 96, 80, 64)   0         \n",
            " 3D)                                                             \n",
            "                                                                 \n",
            " conv3d_5 (Conv3D)           (None, 80, 96, 80, 32)    55328     \n",
            "                                                                 \n",
            " batch_normalization_5 (Batc  (None, 80, 96, 80, 32)   128       \n",
            " hNormalization)                                                 \n",
            "                                                                 \n",
            " activation_5 (Activation)   (None, 80, 96, 80, 32)    0         \n",
            "                                                                 \n",
            " OUTPUT (Conv3D)             (None, 80, 96, 80, 1)     865       \n",
            "                                                                 \n",
            " activation_6 (Activation)   (None, 80, 96, 80, 1)     0         \n",
            "                                                                 \n",
            "=================================================================\n",
            "Total params: 79,862,273\n",
            "Trainable params: 79,861,377\n",
            "Non-trainable params: 896\n",
            "_________________________________________________________________\n",
            "Model created successfully\n"
          ]
        }
      ],
      "source": [
        "input_shape = (t1_align_norm.shape[1], t1_align_norm.shape[2], t1_align_norm.shape[3], 1)\n",
        "autoencoder = create_model_single_conv_noupsamp(input_shape)"
      ]
    },
    {
      "cell_type": "markdown",
      "metadata": {
        "id": "VKQCsVqVSEZI"
      },
      "source": [
        "## Compilation of the model"
      ]
    },
    {
      "cell_type": "code",
      "execution_count": null,
      "metadata": {
        "id": "0wSvGP1XcMMr"
      },
      "outputs": [],
      "source": [
        "autoencoder.compile(optimizer = tf.keras.optimizers.legacy.Adam(learning_rate = 0.005), loss = tf.keras.losses.MeanSquaredError())"
      ]
    },
    {
      "cell_type": "code",
      "execution_count": null,
      "metadata": {
        "id": "dBdv7HnGdA4I"
      },
      "outputs": [],
      "source": [
        "autoencoder.fit(t1_align_norm[:300], t1_align_norm[:300], validation_split = 0.1, batch_size = 8, epochs = 20, shuffle = True)"
      ]
    },
    {
      "cell_type": "markdown",
      "metadata": {
        "id": "cE5eL2fjjXQv"
      },
      "source": [
        "## save and load the weights of the model"
      ]
    },
    {
      "cell_type": "code",
      "execution_count": null,
      "metadata": {
        "id": "3U608xaC5x4M"
      },
      "outputs": [],
      "source": [
        "prefix = \"/content/drive/MyDrive/Weights/\"\n",
        "path = prefix  + \"hcp_weights/\"\n",
        "\n"
      ]
    },
    {
      "cell_type": "code",
      "execution_count": null,
      "metadata": {
        "id": "wVkq7sAEjE7g"
      },
      "outputs": [],
      "source": [
        "os.mkdir(path)"
      ]
    },
    {
      "cell_type": "code",
      "execution_count": null,
      "metadata": {
        "id": "kcUJOXQM7-Sa"
      },
      "outputs": [],
      "source": [
        "autoencoder.save_weights(path+\"HCP_300_T2mni_upsamp_L2_bias\", save_format='tf')"
      ]
    },
    {
      "cell_type": "code",
      "execution_count": null,
      "metadata": {
        "colab": {
          "base_uri": "https://localhost:8080/"
        },
        "id": "PvSBUQAv4le2",
        "outputId": "115b038a-72a5-4346-a9f1-b50b0b39025b"
      },
      "outputs": [
        {
          "output_type": "execute_result",
          "data": {
            "text/plain": [
              "<tensorflow.python.checkpoint.checkpoint.CheckpointLoadStatus at 0x7fbf9c0a1a00>"
            ]
          },
          "metadata": {},
          "execution_count": 15
        }
      ],
      "source": [
        "autoencoder.load_weights(path+\"HCP_300_mni_upsamp_L2SR\")"
      ]
    },
    {
      "cell_type": "markdown",
      "source": [
        "## Threshold calculation & Performance evaluation."
      ],
      "metadata": {
        "id": "cmaDK9g-xpLl"
      }
    },
    {
      "cell_type": "code",
      "execution_count": null,
      "metadata": {
        "colab": {
          "base_uri": "https://localhost:8080/"
        },
        "id": "lIn2rimlAYyq",
        "outputId": "6254bac3-e8d3-469e-a41e-0feb97505085"
      },
      "outputs": [
        {
          "data": {
            "text/plain": [
              "(300, 80, 96, 80, 1)"
            ]
          },
          "execution_count": 16,
          "metadata": {},
          "output_type": "execute_result"
        }
      ],
      "source": [
        "t1_align_norm_sel = t1_align_norm[300:350]\n",
        "t1_align_f_sel = t1_align_f_norm\n",
        "t1_align_norm_sel = np.append(t1_align_norm_sel, t1_align_f_sel, axis = 0 )\n",
        "t1_align_norm_sel.shape\n"
      ]
    },
    {
      "cell_type": "code",
      "execution_count": null,
      "metadata": {
        "id": "xke6KG46uUt6"
      },
      "outputs": [],
      "source": [
        "testing_labels = np.append(np.zeros(50), np.ones(len(t1_align_f_sel)))\n",
        "print(testing_labels)"
      ]
    },
    {
      "cell_type": "code",
      "execution_count": null,
      "metadata": {
        "id": "qep5KrRLLc82"
      },
      "outputs": [],
      "source": [
        "losses_train = [] \n",
        "p = tf.keras.losses.MeanSquaredError()\n",
        "for i in range(np.shape(t1_align_norm_sel)[0]):\n",
        "  predicted_train = autoencoder.predict(t1_align_norm_sel[i:i+1])\n",
        "  losses_train.append(p(predicted_train, t1_align_norm_sel[i:i+1]).numpy())\n",
        "print(losses_train)"
      ]
    },
    {
      "cell_type": "code",
      "execution_count": null,
      "metadata": {
        "id": "uYVgQjHytNTf"
      },
      "outputs": [],
      "source": [
        "import sklearn\n",
        "\n",
        "labels = testing_labels\n",
        "mses = losses_train\n",
        "\n",
        "y_true = labels\n",
        "y_score = mses\n",
        "\n",
        "# Compute fpr, tpr, thresholds and roc auc\n",
        "fpr, tpr, thresholds = roc_curve(y_true, y_score)\n",
        "roc_auc = auc(fpr, tpr)\n",
        "\n",
        "print(\"AUC: \", roc_auc)\n",
        "\n",
        "plt.plot(fpr, tpr, label='ROC curve (area = %0.3f)' % roc_auc)\n",
        "plt.plot([0, 1], [0, 1], 'k--')  # random predictions curve\n",
        "plt.xlim([0.0, 1.0])\n",
        "plt.ylim([0.0, 1.0])\n",
        "plt.xlabel('False Positive Rate')\n",
        "plt.ylabel('True Positive Rate')\n",
        "plt.title(\"ROC on Validation dataset \")\n",
        "plt.legend(loc=\"lower right\")\n",
        "plt.show()\n",
        "\n",
        "diff = np.abs(np.array(fpr) - np.array(tpr))\n",
        "max_diff = np.max(diff)\n",
        "index_of_max_diff = np.argmax(diff)\n",
        "threshold_at_max_diff =  thresholds[index_of_max_diff]\n",
        "print(\"threshold_at_max_diff = \", threshold_at_max_diff)"
      ]
    },
    {
      "cell_type": "code",
      "execution_count": null,
      "metadata": {
        "colab": {
          "base_uri": "https://localhost:8080/"
        },
        "id": "SlEYWHJvvK3e",
        "outputId": "20d65169-96e6-40f3-f2c4-13756f2cc754"
      },
      "outputs": [
        {
          "name": "stdout",
          "output_type": "stream",
          "text": [
            "confusion_matrix \n",
            " [[ 49   1]\n",
            " [  3 247]]\n",
            "accuracy in identifying the correct alignments: 98.66666666666667 percent\n"
          ]
        }
      ],
      "source": [
        "wrong_predicts = 0\n",
        "labels = []\n",
        "for loss in losses_train:\n",
        "  if loss >= threshold_at_max_diff:\n",
        "    labels = labels + [1]\n",
        "  else:\n",
        "    labels = labels + [0]\n",
        "accuracy = accuracy_score(testing_labels, labels)\n",
        "confusion_matrix = sklearn.metrics.confusion_matrix(testing_labels, labels)\n",
        "TN = confusion_matrix[0][0]\n",
        "FP = confusion_matrix[0][1]\n",
        "FN = confusion_matrix[1][0]\n",
        "TP = confusion_matrix[1][1]\n",
        "print(\"confusion_matrix \\n\", confusion_matrix)\n",
        "print(f'accuracy in identifying the correct alignments: {accuracy*100} percent')"
      ]
    },
    {
      "cell_type": "code",
      "execution_count": null,
      "metadata": {
        "colab": {
          "base_uri": "https://localhost:8080/"
        },
        "id": "dnrQMo3LLIkH",
        "outputId": "43a1bce5-e150-4f49-e988-ce488b5b756e"
      },
      "outputs": [
        {
          "data": {
            "text/plain": [
              "(50, 80, 96, 80, 1)"
            ]
          },
          "execution_count": 31,
          "metadata": {},
          "output_type": "execute_result"
        }
      ],
      "source": [
        "t1_align_norm_sel_t = t1_align_norm[350:]\n",
        "t1_align_norm_sel_t.shape"
      ]
    },
    {
      "cell_type": "code",
      "execution_count": null,
      "metadata": {
        "colab": {
          "base_uri": "https://localhost:8080/"
        },
        "id": "vvEbHIklhEt0",
        "outputId": "0c4a0441-1793-455d-e89a-5c16846b930d"
      },
      "outputs": [
        {
          "name": "stdout",
          "output_type": "stream",
          "text": [
            "[0.005913236, 0.0070741354, 0.0053468775, 0.0069335033, 0.008324049, 0.0072536324, 0.0060985335, 0.0058533973, 0.0060419724, 0.009181609, 0.0059048464, 0.008701561, 0.010277496, 0.0057144365, 0.005488973, 0.0058647995, 0.0066005858, 0.006037756, 0.005551012, 0.007051306, 0.0061268588, 0.0076903454, 0.008107291, 0.007201929, 0.013812301, 0.006254665, 0.010309189, 0.0076360805, 0.0051533054, 0.0080378195, 0.006754847, 0.0103642, 0.0060882946, 0.007630795, 0.008825901, 0.008392449, 0.0076888036, 0.0067507965, 0.006702007, 0.006328167, 0.008092552, 0.0059834123, 0.004798258, 0.005756157, 0.0054275487, 0.0070553273, 0.0060853134, 0.005892134, 0.005680378, 0.0077593126]\n"
          ]
        }
      ],
      "source": [
        "losses_test = [] \n",
        "for i in range(np.shape(t1_align_norm_sel_t)[0]):\n",
        "  predicted_test = autoencoder.predict(t1_align_norm_sel_t[i:i+1])\n",
        "  losses_test.append(p(predicted_test, t1_align_norm_sel_t[i:i+1]).numpy())\n",
        "print(losses_test)"
      ]
    },
    {
      "cell_type": "code",
      "execution_count": null,
      "metadata": {
        "id": "AGVAUNPVZDzU"
      },
      "outputs": [],
      "source": [
        "testing_labels_t = np.zeros(len(t1_align_norm_sel_t))"
      ]
    },
    {
      "cell_type": "code",
      "execution_count": null,
      "metadata": {
        "colab": {
          "base_uri": "https://localhost:8080/"
        },
        "id": "3QJzoj-Hg0SM",
        "outputId": "1dddcad0-9f5d-4373-d71c-ecfeabdc89cd"
      },
      "outputs": [
        {
          "name": "stdout",
          "output_type": "stream",
          "text": [
            "confusion_matrix \n",
            " [[49  1]\n",
            " [ 0  0]]\n",
            "accuracy in identifying the correct alignments: 98.0 percent\n"
          ]
        }
      ],
      "source": [
        "wrong_predicts = 0\n",
        "labels = []\n",
        "for loss in losses_test:\n",
        "  if loss >= threshold_at_max_diff:\n",
        "    labels = labels + [1]\n",
        "  else:\n",
        "    labels = labels + [0]\n",
        "accuracy = accuracy_score(testing_labels_t, labels)\n",
        "confusion_matrix = sklearn.metrics.confusion_matrix(testing_labels_t, labels)\n",
        "print(\"confusion_matrix \\n\", confusion_matrix)\n",
        "print(f'accuracy in identifying the correct alignments: {accuracy*100} percent')"
      ]
    },
    {
      "cell_type": "markdown",
      "source": [
        "## For new test datasets"
      ],
      "metadata": {
        "id": "_T88Rngx00Vt"
      }
    },
    {
      "cell_type": "code",
      "execution_count": null,
      "metadata": {
        "colab": {
          "base_uri": "https://localhost:8080/"
        },
        "id": "gz6YPye3MT8c",
        "outputId": "0a1a44ea-ce53-42a1-a57a-defbf3d87a55"
      },
      "outputs": [
        {
          "output_type": "stream",
          "name": "stdout",
          "text": [
            "values before normalization -608.0 12581.0\n",
            "shape of input is (80, 96, 80, 1)\n",
            "(320, 80, 96, 80, 1)\n",
            "values after normalization 0.0 1.0\n"
          ]
        }
      ],
      "source": [
        "  abide_mni = np.load('/content/drive/MyDrive/UnsupervisedQC/T1-mni-dsf2-IOP.npy')\n",
        "  t1_mni_a = np.float32(abide_mni)\n",
        "  t1_mni_a = crop_input(t1_mni_a, 2)\n",
        "  t1_mni_a = np.expand_dims(t1_mni_a, axis = -1)\n",
        "\n",
        "  print('values before normalization', np.min(t1_mni_a[0]), np.max(t1_mni_a[0]))\n",
        "  t1_mni_a_norm = normalize(t1_mni_a)\n",
        "  print(t1_mni_a_norm.shape)\n",
        "  print('values after normalization', np.min(t1_mni_a_norm[0]), np.max(t1_mni_a_norm[0]))\n",
        "  del abide_mni, t1_mni_a"
      ]
    },
    {
      "cell_type": "code",
      "execution_count": null,
      "metadata": {
        "id": "_Fjw1qyxTzft"
      },
      "outputs": [],
      "source": [
        "t1_mni_a_f_norm = np.load('/content/drive/MyDrive/UnsupervisedQC/T2-mni-HCP-am-2000-fullprocessed.npy')"
      ]
    },
    {
      "cell_type": "code",
      "execution_count": null,
      "metadata": {
        "id": "XZOJvS0u-ScW"
      },
      "outputs": [],
      "source": [
        "testing_labels = np.append(np.zeros(50), np.ones(len(t1_mni_a_f_norm)))\n",
        "print(testing_labels)"
      ]
    },
    {
      "cell_type": "code",
      "execution_count": null,
      "metadata": {
        "colab": {
          "base_uri": "https://localhost:8080/"
        },
        "id": "8R60kwlpOwo0",
        "outputId": "4b753b7c-f13e-4e3e-963a-119169dfc13d"
      },
      "outputs": [
        {
          "output_type": "execute_result",
          "data": {
            "text/plain": [
              "(370, 80, 96, 80, 1)"
            ]
          },
          "metadata": {},
          "execution_count": 16
        }
      ],
      "source": [
        "t1_mni_a_f_norm = np.append(t1_mni_a_norm[:50], t1_mni_a_f_norm, axis = 0 )\n",
        "t1_mni_a_f_norm.shape"
      ]
    },
    {
      "cell_type": "code",
      "execution_count": null,
      "metadata": {
        "id": "bQ-SJnUGPZ8p"
      },
      "outputs": [],
      "source": [
        "losses_test = [] \n",
        "p = tf.keras.losses.MeanSquaredError()\n",
        "for i in range(np.shape(t1_abide)[0]):\n",
        "  predicted_test = autoencoder.predict(t1_abide[i:i+1])\n",
        "  losses_test.append(p(predicted_test, t1_abide[i:i+1]).numpy())\n",
        "print(losses_test)\n"
      ]
    },
    {
      "cell_type": "code",
      "execution_count": null,
      "metadata": {
        "colab": {
          "base_uri": "https://localhost:8080/",
          "height": 455
        },
        "id": "dKTDSRVMPZ8u",
        "outputId": "03afafe2-64ad-49fa-f436-af5b70b40002"
      },
      "outputs": [
        {
          "output_type": "stream",
          "name": "stdout",
          "text": [
            "AUC:  0.9941249999999999\n"
          ]
        },
        {
          "output_type": "display_data",
          "data": {
            "text/plain": [
              "<Figure size 432x288 with 1 Axes>"
            ],
            "image/png": "[encoded data removed]"
          },
          "metadata": {
            "needs_background": "light"
          }
        },
        {
          "output_type": "stream",
          "name": "stdout",
          "text": [
            "threshold_at_max_diff =  0.012769941\n"
          ]
        },
        {
          "output_type": "execute_result",
          "data": {
            "text/plain": [
              "'\\nval_pred_labels = mses > threshold\\nprint(val_pred_labels, mses)\\n# to get max of predictions\\n    \\nreport = classification_report(labels, val_pred_labels)\\np_score = precision_score(labels, val_pred_labels)\\nr_score = recall_score(labels, val_pred_labels)\\nf1 = f1_score(labels, val_pred_labels)\\nmatthews = matthews_corrcoef(labels, val_pred_labels)\\nbalanced_accuracy = balanced_accuracy_score(labels, val_pred_labels)\\nconfusion_matrix = sklearn.metrics.confusion_matrix(labels, val_pred_labels)\\nTN = confusion_matrix[0][0]\\nFP = confusion_matrix[0][1]\\nFN = confusion_matrix[1][0]\\nTP = confusion_matrix[1][1]\\nspecificity = TN/(TN+FP)\\naccuracy = sklearn.metrics.accuracy_score(labels, val_pred_labels)\\n\\nprint(report)\\nprint(\"precision_score: \", p_score)\\nprint(\"th : \", threshold)\\nprint(\"recall/sensitivity \", r_score)\\nprint(\"f1_score \", f1)\\nprint(\"matthews_corrcoef \", matthews)\\nprint(\"balanced_accuracy_score \", balanced_accuracy)\\nprint(\"confusion_matrix \\n\", confusion_matrix)\\nprint(\"specificity \", specificity)\\nprint(\"Accuracy \", accuracy)'"
            ],
            "application/vnd.google.colaboratory.intrinsic+json": {
              "type": "string"
            }
          },
          "metadata": {},
          "execution_count": 23
        }
      ],
      "source": [
        "import sklearn\n",
        "\n",
        "labels = testing_labels\n",
        "mses = losses_test\n",
        "\n",
        "y_true = labels\n",
        "y_score = mses\n",
        "\n",
        "# Compute fpr, tpr, thresholds and roc auc\n",
        "fpr, tpr, thresholds = roc_curve(y_true, y_score)\n",
        "roc_auc = auc(fpr, tpr)\n",
        "\n",
        "print(\"AUC: \", roc_auc)\n",
        "\n",
        "plt.plot(fpr, tpr, label='ROC curve (area = %0.3f)' % roc_auc)\n",
        "plt.plot([0, 1], [0, 1], 'k--')  # random predictions curve\n",
        "plt.xlim([0.0, 1.0])\n",
        "plt.ylim([0.0, 1.0])\n",
        "plt.xlabel('False Positive Rate')\n",
        "plt.ylabel('True Positive Rate')\n",
        "plt.title(\"ROC on Validation dataset \")\n",
        "plt.legend(loc=\"lower right\")\n",
        "plt.show()\n",
        "\n",
        "diff = np.abs(np.array(fpr) - np.array(tpr))\n",
        "max_diff = np.max(diff)\n",
        "index_of_max_diff = np.argmax(diff)\n",
        "threshold_at_max_diff =  thresholds[index_of_max_diff]\n",
        "print(\"threshold_at_max_diff = \", threshold_at_max_diff)\n",
        "\n"
      ]
    },
    {
      "cell_type": "code",
      "execution_count": null,
      "metadata": {
        "colab": {
          "base_uri": "https://localhost:8080/"
        },
        "id": "D6F4ls35Pj1e",
        "outputId": "ef773c92-8b15-4f69-9986-3e71d9f5cf3e"
      },
      "outputs": [
        {
          "output_type": "stream",
          "name": "stdout",
          "text": [
            "confusion_matrix \n",
            " [[ 48   2]\n",
            " [  2 318]]\n",
            "accuracy in identifying the correct alignments: 98.91891891891892 percent\n"
          ]
        }
      ],
      "source": [
        "wrong_predicts = 0\n",
        "labels = []\n",
        "for loss in losses_test:\n",
        "  if loss >= threshold_at_max_diff:\n",
        "    labels = labels + [1]\n",
        "  else:\n",
        "    labels = labels + [0]\n",
        "accuracy = accuracy_score(testing_labels, labels)\n",
        "confusion_matrix = sklearn.metrics.confusion_matrix(testing_labels, labels)\n",
        "TN = confusion_matrix[0][0]\n",
        "FP = confusion_matrix[0][1]\n",
        "FN = confusion_matrix[1][0]\n",
        "TP = confusion_matrix[1][1]\n",
        "print(\"confusion_matrix \\n\", confusion_matrix)\n",
        "print(f'accuracy in identifying the correct alignments: {accuracy*100} percent')"
      ]
    },
    {
      "cell_type": "code",
      "execution_count": null,
      "metadata": {
        "colab": {
          "base_uri": "https://localhost:8080/"
        },
        "id": "SFGkSyMKXhl_",
        "outputId": "ceccb5b0-76b7-4756-d49f-209ee760cd65"
      },
      "outputs": [
        {
          "output_type": "execute_result",
          "data": {
            "text/plain": [
              "(14, 80, 96, 80, 1)"
            ]
          },
          "metadata": {},
          "execution_count": 25
        }
      ],
      "source": [
        "t1_abide = t1_mni_a_norm[50:]\n",
        "t1_abide.shape"
      ]
    },
    {
      "cell_type": "code",
      "execution_count": null,
      "metadata": {
        "id": "cJsbYa-SXhmF"
      },
      "outputs": [],
      "source": [
        "losses_test = [] \n",
        "for i in range(np.shape(t1_abide)[0]):\n",
        "  predicted_test = autoencoder.predict(t1_abide[i:i+1])\n",
        "  losses_test.append(p(predicted_test, t1_abide[i:i+1]).numpy())\n",
        "print(losses_test)\n"
      ]
    },
    {
      "cell_type": "code",
      "execution_count": null,
      "metadata": {
        "id": "nplH82AJIQvu"
      },
      "outputs": [],
      "source": [
        "testing_labels_t = np.zeros(len(t1_abide))"
      ]
    },
    {
      "cell_type": "code",
      "execution_count": null,
      "metadata": {
        "colab": {
          "base_uri": "https://localhost:8080/"
        },
        "id": "LCjLZj-tXhmJ",
        "outputId": "b1c2c5d8-670d-4178-c113-8681400ea7a5"
      },
      "outputs": [
        {
          "output_type": "stream",
          "name": "stdout",
          "text": [
            "confusion_matrix \n",
            " [[13  1]\n",
            " [ 0  0]]\n",
            "accuracy in identifying the correct alignments: 92.85714285714286 percent\n"
          ]
        }
      ],
      "source": [
        "wrong_predicts = 0\n",
        "labels = []\n",
        "for loss in losses_test:\n",
        "  if loss >= threshold_at_max_diff:\n",
        "    labels = labels + [1]\n",
        "  else:\n",
        "    labels = labels + [0]\n",
        "accuracy = accuracy_score(testing_labels_t, labels)\n",
        "confusion_matrix = sklearn.metrics.confusion_matrix(testing_labels_t, labels)\n",
        "print(\"confusion_matrix \\n\", confusion_matrix)\n",
        "print(f'accuracy in identifying the correct alignments: {accuracy*100} percent')"
      ]
    }
  ],
  "metadata": {
    "accelerator": "GPU",
    "colab": {
      "machine_shape": "hm",
      "provenance": [],
      "include_colab_link": true
    },
    "gpuClass": "standard",
    "kernelspec": {
      "display_name": "Python 3",
      "name": "python3"
    },
    "language_info": {
      "name": "python"
    }
  },
  "nbformat": 4,
  "nbformat_minor": 0
}