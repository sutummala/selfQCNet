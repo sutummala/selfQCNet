{
  "cells": [
    {
      "cell_type": "markdown",
      "metadata": {
        "id": "view-in-github",
        "colab_type": "text"
      },
      "source": [
        "<a href=\"https://colab.research.google.com/github/sutummala/selfQCNet/blob/main/QC_unsupervised.ipynb\" target=\"_parent\"><img src=\"https://colab.research.google.com/assets/colab-badge.svg\" alt=\"Open In Colab\"/></a>"
      ]
    },
    {
      "cell_type": "code",
      "execution_count": null,
      "metadata": {
        "id": "Ng-GhXnNUWmi"
      },
      "outputs": [],
      "source": [
        "from google.colab import drive\n",
        "drive._mount('/content/drive')"
      ]
    },
    {
      "cell_type": "code",
      "source": [
        "!sudo add-apt-repository -y ppa:alessandro-strada/ppa 2>&1 > /dev/null\n",
        "!sudo apt-get update -qq 2>&1 > /dev/null\n",
        "!sudo apt -y install -qq google-drive-ocamlfuse 2>&1 > /dev/null\n",
        "!google-drive-ocamlfuse"
      ],
      "metadata": {
        "colab": {
          "base_uri": "https://localhost:8080/"
        },
        "id": "bg8Kxg6iFzqO",
        "outputId": "08749cc6-2053-4363-83fe-20857428209e"
      },
      "execution_count": null,
      "outputs": [
        {
          "output_type": "stream",
          "name": "stdout",
          "text": [
            "\n",
            "WARNING: apt does not have a stable CLI interface. Use with caution in scripts.\n",
            "\n",
            "debconf: unable to initialize frontend: Dialog\n",
            "debconf: (No usable dialog-like program is installed, so the dialog based frontend cannot be used. at /usr/share/perl5/Debconf/FrontEnd/Dialog.pm line 76, <> line 1.)\n",
            "debconf: falling back to frontend: Readline\n",
            "debconf: unable to initialize frontend: Readline\n",
            "debconf: (This frontend requires a controlling tty.)\n",
            "debconf: falling back to frontend: Teletype\n",
            "dpkg-preconfigure: unable to re-open stdin: \n",
            "/usr/bin/xdg-open: 851: /usr/bin/xdg-open: www-browser: not found\n",
            "/usr/bin/xdg-open: 851: /usr/bin/xdg-open: links2: not found\n",
            "/usr/bin/xdg-open: 851: /usr/bin/xdg-open: elinks: not found\n",
            "/usr/bin/xdg-open: 851: /usr/bin/xdg-open: links: not found\n",
            "/usr/bin/xdg-open: 851: /usr/bin/xdg-open: lynx: not found\n",
            "/usr/bin/xdg-open: 851: /usr/bin/xdg-open: w3m: not found\n",
            "xdg-open: no method available for opening 'https://accounts.google.com/o/oauth2/auth?client_id=564921029129.apps.googleusercontent.com&redirect_uri=https%3A%2F%2Fgd-ocaml-auth.appspot.com%2Foauth2callback&scope=https%3A%2F%2Fwww.googleapis.com%2Fauth%2Fdrive&response_type=code&access_type=offline&approval_prompt=force&state=zULGr9ewu5K4vtCPXwBEK5jQZ7r%2FG1bVzn8gkl6tmHg'\n",
            "/bin/sh: 1: firefox: not found\n",
            "/bin/sh: 1: google-chrome: not found\n",
            "/bin/sh: 1: chromium-browser: not found\n",
            "/bin/sh: 1: open: not found\n",
            "Cannot retrieve auth tokens.\n",
            "Failure(\"Error opening URL:https://accounts.google.com/o/oauth2/auth?client_id=564921029129.apps.googleusercontent.com&redirect_uri=https%3A%2F%2Fgd-ocaml-auth.appspot.com%2Foauth2callback&scope=https%3A%2F%2Fwww.googleapis.com%2Fauth%2Fdrive&response_type=code&access_type=offline&approval_prompt=force&state=zULGr9ewu5K4vtCPXwBEK5jQZ7r%2FG1bVzn8gkl6tmHg\")\n"
          ]
        }
      ]
    },
    {
      "cell_type": "code",
      "source": [
        "!sudo apt-get install -qq w3m # to act as web browser \n",
        "!xdg-settings set default-web-browser w3m.desktop # to set default browser\n",
        "%cd /content\n",
        "!mkdir drive\n",
        "%cd drive\n",
        "!mkdir MyDrive\n",
        "%cd ..\n",
        "%cd ..\n",
        "!google-drive-ocamlfuse /content/drive/MyDrive"
      ],
      "metadata": {
        "colab": {
          "base_uri": "https://localhost:8080/"
        },
        "id": "4GSrHgd0GfYd",
        "outputId": "b137f9ea-5de1-4128-ab22-e499ee14b744"
      },
      "execution_count": null,
      "outputs": [
        {
          "output_type": "stream",
          "name": "stdout",
          "text": [
            "debconf: unable to initialize frontend: Dialog\n",
            "debconf: (No usable dialog-like program is installed, so the dialog based frontend cannot be used. at /usr/share/perl5/Debconf/FrontEnd/Dialog.pm line 76, <> line 2.)\n",
            "debconf: falling back to frontend: Readline\n",
            "debconf: unable to initialize frontend: Readline\n",
            "debconf: (This frontend requires a controlling tty.)\n",
            "debconf: falling back to frontend: Teletype\n",
            "dpkg-preconfigure: unable to re-open stdin: \n",
            "Selecting previously unselected package libgpm2:amd64.\n",
            "(Reading database ... \r(Reading database ... 5%\r(Reading database ... 10%\r(Reading database ... 15%\r(Reading database ... 20%\r(Reading database ... 25%\r(Reading database ... 30%\r(Reading database ... 35%\r(Reading database ... 40%\r(Reading database ... 45%\r(Reading database ... 50%\r(Reading database ... 55%\r(Reading database ... 60%\r(Reading database ... 65%\r(Reading database ... 70%\r(Reading database ... 75%\r(Reading database ... 80%\r(Reading database ... 85%\r(Reading database ... 90%\r(Reading database ... 95%\r(Reading database ... 100%\r(Reading database ... 155506 files and directories currently installed.)\n",
            "Preparing to unpack .../libgpm2_1.20.7-5_amd64.deb ...\n",
            "Unpacking libgpm2:amd64 (1.20.7-5) ...\n",
            "Selecting previously unselected package w3m.\n",
            "Preparing to unpack .../w3m_0.5.3-36build1_amd64.deb ...\n",
            "Unpacking w3m (0.5.3-36build1) ...\n",
            "Setting up libgpm2:amd64 (1.20.7-5) ...\n",
            "Setting up w3m (0.5.3-36build1) ...\n",
            "Processing triggers for mime-support (3.60ubuntu1) ...\n",
            "Processing triggers for libc-bin (2.27-3ubuntu1.3) ...\n",
            "/sbin/ldconfig.real: /usr/local/lib/python3.7/dist-packages/ideep4py/lib/libmkldnn.so.0 is not a symbolic link\n",
            "\n",
            "Processing triggers for man-db (2.8.3-2ubuntu0.1) ...\n",
            "/content\n",
            "/content/drive\n",
            "/content\n",
            "/\n",
            "Access token retrieved correctly.\n"
          ]
        }
      ]
    },
    {
      "cell_type": "code",
      "execution_count": null,
      "metadata": {
        "id": "V46Ia_BXUa4j"
      },
      "outputs": [],
      "source": [
        "from tensorflow.keras.layers import BatchNormalization\n",
        "from tensorflow.keras.layers import Conv3D\n",
        "from tensorflow.keras.layers import GlobalAveragePooling3D\n",
        "from tensorflow.keras.layers import Conv3DTranspose\n",
        "from tensorflow.keras.layers import MaxPooling3D\n",
        "from tensorflow.keras.layers import LeakyReLU\n",
        "from tensorflow.keras.layers import Activation\n",
        "from tensorflow.keras.layers import Flatten\n",
        "from tensorflow.keras.layers import UpSampling3D\n",
        "from tensorflow.keras import regularizers\n",
        "from tensorflow.keras.layers import Dense\n",
        "from tensorflow.keras.layers import Reshape\n",
        "from tensorflow.keras.layers import Dropout\n",
        "from tensorflow.keras.layers import Input\n",
        "from tensorflow.keras.models import Model\n",
        "import matplotlib.pyplot as plt\n",
        "import os\n",
        "from tensorflow.keras.optimizers import Adamax\n",
        "from tensorflow.keras import backend as K\n",
        "import numpy as np\n",
        "import tensorflow as tf\n",
        "from sklearn.metrics import roc_curve, roc_auc_score\n",
        "from sklearn.metrics import f1_score, precision_score, recall_score, matthews_corrcoef, balanced_accuracy_score\n",
        "from sklearn.metrics import classification_report\n",
        "from sklearn.metrics import auc"
      ]
    },
    {
      "cell_type": "code",
      "execution_count": null,
      "metadata": {
        "id": "UgS9iUB0YPFo"
      },
      "outputs": [],
      "source": [
        "# normalizing the input to have values between zero and one to make them suitable for further analysis\n",
        "def normalize(input):\n",
        "  norm_input = []\n",
        "  print(f'shape of input is {np.shape(input[0])}')\n",
        "  for i in range(np.shape(input)[0]):\n",
        "    norm_in = (input[i]-np.min(input[i]))/(np.max(input[i])-np.min(input[i]))\n",
        "    norm_input.append(norm_in)\n",
        "  return np.array(norm_input)"
      ]
    },
    {
      "cell_type": "code",
      "source": [
        "def crop_input(input, d_s_factor):\n",
        "  \n",
        "  if d_s_factor == 2:\n",
        "    input = input[:, 6:86, 6:102, 6:86]\n",
        "  elif d_s_factor == 4:\n",
        "    input = input[:, 3:43, 4:52, 3:43]\n",
        "\n",
        "  return input"
      ],
      "metadata": {
        "id": "zQaY18DfsGol"
      },
      "execution_count": null,
      "outputs": []
    },
    {
      "cell_type": "code",
      "execution_count": null,
      "metadata": {
        "colab": {
          "base_uri": "https://localhost:8080/"
        },
        "id": "jujCyJkdVIua",
        "outputId": "03b771b7-7f28-439b-cace-27f5c244d2a5"
      },
      "outputs": [
        {
          "output_type": "stream",
          "name": "stdout",
          "text": [
            "values before normalization -206.0 2301.0\n",
            "shape of input is (80, 96, 80, 1)\n",
            "(400, 80, 96, 80, 1)\n",
            "values after normalization 0.0 1.0\n"
          ]
        }
      ],
      "source": [
        "t1_align = np.load('/content/drive/MyDrive/Datasets/unsupervisedQC/T2-mni-dsf2.npy')\n",
        "t1_align = np.float32(t1_align)\n",
        "t1_align = crop_input(t1_align, 2)\n",
        "t1_align = np.expand_dims(t1_align, axis = -1)\n",
        "\n",
        "print('values before normalization', np.min(t1_align[0]), np.max(t1_align[0]))\n",
        "t1_align_norm = normalize(t1_align)\n",
        "print(t1_align_norm.shape)\n",
        "print('values after normalization', np.min(t1_align_norm[0]), np.max(t1_align_norm[0]))\n",
        "#print(t1_align_norm)"
      ]
    },
    {
      "cell_type": "code",
      "execution_count": null,
      "metadata": {
        "id": "MEgRPAc1aSlm"
      },
      "outputs": [],
      "source": [
        "activation = tf.keras.activations.relu\n",
        "kernal_initializer = tf.keras.initializers.glorot_normal\n",
        "loss = tf.keras.losses.MeanSquaredError()"
      ]
    },
    {
      "cell_type": "code",
      "execution_count": null,
      "metadata": {
        "id": "Z9GICs3daDGy"
      },
      "outputs": [],
      "source": [
        "def create_model_single_conv_noupsamp(input_shape):\n",
        "  input_layer = Input(shape=input_shape, dtype=\"float32\", name=\"INPUT\")\n",
        "\n",
        "  x = Conv3D(32, (3, 3, 3), strides=(1, 1, 1), padding=\"same\", kernel_initializer=kernal_initializer)(input_layer)\n",
        "  x = BatchNormalization()(x)\n",
        "  x = Activation(activation)(x)\n",
        "  x = MaxPooling3D(strides=2)(x)\n",
        "\n",
        "  x = Conv3D(64, (3, 3, 3), strides=(1, 1, 1), padding=\"same\", kernel_initializer=kernal_initializer)(x)\n",
        "  x = BatchNormalization()(x)\n",
        "  x = Activation(activation)(x)\n",
        "  x = MaxPooling3D(strides=2)(x)\n",
        "\n",
        "  x = Conv3D(128, (3, 3, 3), strides=(1, 1, 1), padding=\"same\", kernel_initializer=kernal_initializer)(x)\n",
        "  x = BatchNormalization()(x)\n",
        "  x = Activation(activation)(x)\n",
        "  x = MaxPooling3D(strides=2)(x)\n",
        "\n",
        "  volumeSize = K.int_shape(x)\n",
        "  x = Flatten()(x)\n",
        "\n",
        "  x = Dense(256, activation=activation, kernel_initializer=tf.keras.initializers.glorot_normal)(x)\n",
        "\n",
        "  x = Dense(128, activation=activation, kernel_initializer=tf.keras.initializers.glorot_normal, name=\"CODE\")(x)\n",
        "\n",
        "  x = Dense(256, activation=activation, kernel_initializer=tf.keras.initializers.glorot_normal)(x)\n",
        "\n",
        "  x = Dense(np.prod(volumeSize[1:]), kernel_initializer=tf.keras.initializers.glorot_normal)(x)\n",
        "\n",
        "  x = Reshape((volumeSize[1], volumeSize[2], volumeSize[3], volumeSize[4]))(x)\n",
        "\n",
        "  x = Conv3DTranspose(128, (3, 3, 3), strides=(2, 2, 2), padding=\"same\", kernel_initializer=kernal_initializer)(x)\n",
        "  x = BatchNormalization()(x)\n",
        "  x = Activation(activation)(x)\n",
        "\n",
        "  x = Conv3DTranspose(64, (3, 3, 3), strides=(2, 2, 2), padding=\"same\", kernel_initializer=kernal_initializer)(x)\n",
        "  x = BatchNormalization()(x)\n",
        "  x = Activation(activation)(x)\n",
        "\n",
        "  x = Conv3DTranspose(32, (3, 3, 3), strides=(2, 2, 2), padding=\"same\", kernel_initializer=kernal_initializer)(x)\n",
        "  x = BatchNormalization()(x)\n",
        "  x = Activation(activation)(x)\n",
        "\n",
        "  x = Conv3D(1, (3, 3, 3), strides=(1, 1, 1),  padding=\"same\", kernel_initializer=kernal_initializer, name = \"OUTPUT\")(x)\n",
        "  x = Activation(tf.keras.activations.sigmoid)(x)\n",
        "\n",
        "  autoencoder = Model(input_layer, x)\n",
        "  autoencoder.summary()\n",
        "\n",
        "  print(\"Model created successfully\")\n",
        "  return autoencoder"
      ]
    },
    {
      "cell_type": "code",
      "execution_count": null,
      "metadata": {
        "id": "me4QPS68aled",
        "colab": {
          "base_uri": "https://localhost:8080/"
        },
        "outputId": "8adc9924-564a-421f-d795-77b7041888a2"
      },
      "outputs": [
        {
          "output_type": "stream",
          "name": "stdout",
          "text": [
            "Model: \"model\"\n",
            "_________________________________________________________________\n",
            " Layer (type)                Output Shape              Param #   \n",
            "=================================================================\n",
            " INPUT (InputLayer)          [(None, 80, 96, 80, 1)]   0         \n",
            "                                                                 \n",
            " conv3d (Conv3D)             (None, 80, 96, 80, 32)    896       \n",
            "                                                                 \n",
            " batch_normalization (BatchN  (None, 80, 96, 80, 32)   128       \n",
            " ormalization)                                                   \n",
            "                                                                 \n",
            " activation (Activation)     (None, 80, 96, 80, 32)    0         \n",
            "                                                                 \n",
            " max_pooling3d (MaxPooling3D  (None, 40, 48, 40, 32)   0         \n",
            " )                                                               \n",
            "                                                                 \n",
            " conv3d_1 (Conv3D)           (None, 40, 48, 40, 64)    55360     \n",
            "                                                                 \n",
            " batch_normalization_1 (Batc  (None, 40, 48, 40, 64)   256       \n",
            " hNormalization)                                                 \n",
            "                                                                 \n",
            " activation_1 (Activation)   (None, 40, 48, 40, 64)    0         \n",
            "                                                                 \n",
            " max_pooling3d_1 (MaxPooling  (None, 20, 24, 20, 64)   0         \n",
            " 3D)                                                             \n",
            "                                                                 \n",
            " conv3d_2 (Conv3D)           (None, 20, 24, 20, 128)   221312    \n",
            "                                                                 \n",
            " batch_normalization_2 (Batc  (None, 20, 24, 20, 128)  512       \n",
            " hNormalization)                                                 \n",
            "                                                                 \n",
            " activation_2 (Activation)   (None, 20, 24, 20, 128)   0         \n",
            "                                                                 \n",
            " max_pooling3d_2 (MaxPooling  (None, 10, 12, 10, 128)  0         \n",
            " 3D)                                                             \n",
            "                                                                 \n",
            " flatten (Flatten)           (None, 153600)            0         \n",
            "                                                                 \n",
            " dense (Dense)               (None, 256)               39321856  \n",
            "                                                                 \n",
            " CODE (Dense)                (None, 128)               32896     \n",
            "                                                                 \n",
            " dense_1 (Dense)             (None, 256)               33024     \n",
            "                                                                 \n",
            " dense_2 (Dense)             (None, 153600)            39475200  \n",
            "                                                                 \n",
            " reshape (Reshape)           (None, 10, 12, 10, 128)   0         \n",
            "                                                                 \n",
            " conv3d_transpose (Conv3DTra  (None, 20, 24, 20, 128)  442496    \n",
            " nspose)                                                         \n",
            "                                                                 \n",
            " batch_normalization_3 (Batc  (None, 20, 24, 20, 128)  512       \n",
            " hNormalization)                                                 \n",
            "                                                                 \n",
            " activation_3 (Activation)   (None, 20, 24, 20, 128)   0         \n",
            "                                                                 \n",
            " conv3d_transpose_1 (Conv3DT  (None, 40, 48, 40, 64)   221248    \n",
            " ranspose)                                                       \n",
            "                                                                 \n",
            " batch_normalization_4 (Batc  (None, 40, 48, 40, 64)   256       \n",
            " hNormalization)                                                 \n",
            "                                                                 \n",
            " activation_4 (Activation)   (None, 40, 48, 40, 64)    0         \n",
            "                                                                 \n",
            " conv3d_transpose_2 (Conv3DT  (None, 80, 96, 80, 32)   55328     \n",
            " ranspose)                                                       \n",
            "                                                                 \n",
            " batch_normalization_5 (Batc  (None, 80, 96, 80, 32)   128       \n",
            " hNormalization)                                                 \n",
            "                                                                 \n",
            " activation_5 (Activation)   (None, 80, 96, 80, 32)    0         \n",
            "                                                                 \n",
            " OUTPUT (Conv3D)             (None, 80, 96, 80, 1)     865       \n",
            "                                                                 \n",
            " activation_6 (Activation)   (None, 80, 96, 80, 1)     0         \n",
            "                                                                 \n",
            "=================================================================\n",
            "Total params: 79,862,273\n",
            "Trainable params: 79,861,377\n",
            "Non-trainable params: 896\n",
            "_________________________________________________________________\n",
            "Model created successfully\n"
          ]
        }
      ],
      "source": [
        "input_shape = (t1_align_norm.shape[1], t1_align_norm.shape[2], t1_align_norm.shape[3], 1)\n",
        "autoencoder = create_model_single_conv_noupsamp(input_shape)"
      ]
    },
    {
      "cell_type": "code",
      "execution_count": null,
      "metadata": {
        "id": "0wSvGP1XcMMr"
      },
      "outputs": [],
      "source": [
        "autoencoder.compile(optimizer = tf.keras.optimizers.Adam(learning_rate = 0.005), loss = tf.keras.losses.MeanSquaredError())"
      ]
    },
    {
      "cell_type": "code",
      "execution_count": null,
      "metadata": {
        "colab": {
          "base_uri": "https://localhost:8080/"
        },
        "id": "dBdv7HnGdA4I",
        "outputId": "16e94bfb-290b-4b69-c219-ff5d6806b942"
      },
      "outputs": [
        {
          "output_type": "stream",
          "name": "stdout",
          "text": [
            "Epoch 1/20\n",
            "45/45 [==============================] - 36s 549ms/step - loss: 0.0176 - val_loss: 0.0175\n",
            "Epoch 2/20\n",
            "45/45 [==============================] - 24s 540ms/step - loss: 0.0106 - val_loss: 0.0104\n",
            "Epoch 3/20\n",
            "45/45 [==============================] - 24s 539ms/step - loss: 0.0090 - val_loss: 0.0096\n",
            "Epoch 4/20\n",
            "45/45 [==============================] - 24s 540ms/step - loss: 0.0084 - val_loss: 0.0078\n",
            "Epoch 5/20\n",
            "45/45 [==============================] - 24s 539ms/step - loss: 0.0072 - val_loss: 0.0074\n",
            "Epoch 6/20\n",
            "45/45 [==============================] - 24s 540ms/step - loss: 0.0067 - val_loss: 0.0070\n",
            "Epoch 7/20\n",
            "45/45 [==============================] - 24s 540ms/step - loss: 0.0064 - val_loss: 0.0069\n",
            "Epoch 8/20\n",
            "45/45 [==============================] - 24s 539ms/step - loss: 0.0061 - val_loss: 0.0062\n",
            "Epoch 9/20\n",
            "45/45 [==============================] - 24s 541ms/step - loss: 0.0059 - val_loss: 0.0059\n",
            "Epoch 10/20\n",
            "45/45 [==============================] - 24s 540ms/step - loss: 0.0058 - val_loss: 0.0060\n",
            "Epoch 11/20\n",
            "45/45 [==============================] - 24s 540ms/step - loss: 0.0058 - val_loss: 0.0059\n",
            "Epoch 12/20\n",
            "45/45 [==============================] - 24s 539ms/step - loss: 0.0057 - val_loss: 0.0056\n",
            "Epoch 13/20\n",
            "45/45 [==============================] - 24s 540ms/step - loss: 0.0057 - val_loss: 0.0055\n",
            "Epoch 14/20\n",
            "45/45 [==============================] - 24s 540ms/step - loss: 0.0056 - val_loss: 0.0056\n",
            "Epoch 15/20\n",
            "45/45 [==============================] - 24s 539ms/step - loss: 0.0056 - val_loss: 0.0056\n",
            "Epoch 16/20\n",
            "45/45 [==============================] - 24s 539ms/step - loss: 0.0057 - val_loss: 0.0058\n",
            "Epoch 17/20\n",
            "45/45 [==============================] - 24s 540ms/step - loss: 0.0056 - val_loss: 0.0058\n",
            "Epoch 18/20\n",
            "45/45 [==============================] - 24s 539ms/step - loss: 0.0055 - val_loss: 0.0056\n",
            "Epoch 19/20\n",
            "45/45 [==============================] - 24s 540ms/step - loss: 0.0055 - val_loss: 0.0054\n",
            "Epoch 20/20\n",
            "45/45 [==============================] - 24s 540ms/step - loss: 0.0055 - val_loss: 0.0054\n"
          ]
        },
        {
          "output_type": "execute_result",
          "data": {
            "text/plain": [
              "<keras.callbacks.History at 0x7f92f006ba90>"
            ]
          },
          "metadata": {},
          "execution_count": 11
        }
      ],
      "source": [
        "autoencoder.fit(t1_align_norm, t1_align_norm, validation_split = 0.1, batch_size = 8, epochs = 20, shuffle = True)"
      ]
    },
    {
      "cell_type": "code",
      "execution_count": null,
      "metadata": {
        "colab": {
          "base_uri": "https://localhost:8080/"
        },
        "id": "Jn0iUPFUnOXv",
        "outputId": "c58b2f9b-8cbd-44bb-d69b-7d4d51954518"
      },
      "outputs": [
        {
          "output_type": "stream",
          "name": "stdout",
          "text": [
            "[0.0044893157, 0.0061429334, 0.0048373216, 0.0037853739, 0.0071039214, 0.0050125467, 0.004714354, 0.0039594118, 0.0047982824, 0.0034688204, 0.0055806353, 0.003928825, 0.0053878813, 0.005408442, 0.005844537, 0.004961872, 0.003585929, 0.0049945107, 0.0064595537, 0.0053032, 0.0068378695, 0.004727375, 0.004792953, 0.0060086115, 0.0049971417, 0.0060766996, 0.005267987, 0.005499967, 0.006916767, 0.006043941, 0.007545243, 0.0043568653, 0.004537262, 0.00509373, 0.0047769616, 0.0034523762, 0.0060648522, 0.005483669, 0.004035857, 0.0040133256, 0.008417505, 0.0035468228, 0.005598655, 0.005339415, 0.0053682798, 0.0030805606, 0.0044600954, 0.004917002, 0.0068403957, 0.005655526, 0.006533859, 0.0057053706, 0.00397232, 0.0046246336, 0.0063754255, 0.006458958, 0.0047356654, 0.006847981, 0.0048084124, 0.0047307517, 0.005349388, 0.0059185177, 0.005783841, 0.0052019376, 0.005838398, 0.0052733105, 0.008556858, 0.0058961334, 0.0058981436, 0.0055798767, 0.0050064255, 0.0033946375, 0.005235528, 0.0061766854, 0.0056677824, 0.006763737, 0.0058668107, 0.007754415, 0.0064696628, 0.0074300407, 0.0061520385, 0.006532987, 0.003975426, 0.0048068096, 0.0050891363, 0.0051009157, 0.006807687, 0.007020009, 0.004821687, 0.006038746, 0.0044350405, 0.0108321, 0.006053659, 0.0043833097, 0.004674101, 0.0057910783, 0.0027921419, 0.0038774805, 0.005720834, 0.0047261463, 0.0062882653, 0.005783668, 0.00559027, 0.0054913363, 0.0055656442, 0.006946304, 0.0053340807, 0.0044075535, 0.006574771, 0.0050856736, 0.0064007547, 0.008206539, 0.00498289, 0.0045386357, 0.005283538, 0.006064416, 0.005645011, 0.0072228885, 0.006552369, 0.0053778547, 0.0051270626, 0.0053863567, 0.00440644, 0.004482693, 0.005906995, 0.005351935, 0.006109495, 0.005114173, 0.006549178, 0.0063063013, 0.005547215, 0.004490584, 0.0037931025, 0.0055934535, 0.0058383606, 0.004776111, 0.0074120634, 0.006377608, 0.0047822264, 0.0035213851, 0.0041267355, 0.0064679305, 0.006206955, 0.006309027, 0.0054112244, 0.005005245, 0.0055680424, 0.007034332, 0.0059830155, 0.004590049, 0.004475651, 0.0042794705, 0.0056624995, 0.00674812, 0.005062896, 0.005084814, 0.0058661215, 0.005558072, 0.0054342737, 0.0055636694, 0.0055837003, 0.008126229, 0.006049052, 0.0039108414, 0.0055523757, 0.005590287, 0.008093138, 0.0058875657, 0.0060631176, 0.005515726, 0.0050343606, 0.00462368, 0.0067531453, 0.006566865, 0.005206468, 0.0052785953, 0.004685004, 0.0049854885, 0.0060567777, 0.0049082176, 0.006457473, 0.004910668, 0.0052097123, 0.004787573, 0.003999928, 0.0049312604, 0.0043101176, 0.0042874054, 0.004706702, 0.0063562896, 0.004246574, 0.0043378975, 0.0050713825, 0.006813894, 0.004982818, 0.006259319, 0.006720628, 0.004391444, 0.0048216796, 0.005579967, 0.0053191828, 0.0059281136, 0.005336122, 0.0064387973, 0.0046904027, 0.006826727, 0.0058951355, 0.004778356, 0.0052689654, 0.0063161235, 0.006773456, 0.008500695, 0.0042432356, 0.004579752, 0.006531742, 0.006302848, 0.0055449964, 0.0046290616, 0.00434842, 0.0049124784, 0.0049226326, 0.005265316, 0.0049840524, 0.00570451, 0.0044931485, 0.0054283696, 0.0049003814, 0.0042810794, 0.0063481038, 0.0054439316, 0.005252428, 0.0047717676, 0.006146819, 0.005498461, 0.0053221486, 0.007689141, 0.003999003, 0.006016426, 0.005723121, 0.005061877, 0.004918731, 0.005336484, 0.0047060275, 0.004903813, 0.004967579, 0.006453598, 0.0048312936, 0.0034429117, 0.0036679292, 0.005615298, 0.005169588, 0.0050140293, 0.0042530764, 0.0057557104, 0.0051991274, 0.0052054403, 0.005475114, 0.0048416383, 0.0050839987, 0.003833433, 0.00553417, 0.004986302, 0.0057581933, 0.005149629, 0.0050330805, 0.004211184, 0.0068178186, 0.006288806, 0.0058877016, 0.0047202264, 0.005934999, 0.004341649, 0.0054232893, 0.0066755507, 0.005749904, 0.004702066, 0.003793771, 0.0050836643, 0.0052603316, 0.0053612133, 0.004794006, 0.004034572, 0.006635954, 0.005110975, 0.003618978, 0.006328927, 0.005311358, 0.0056987256, 0.006882329, 0.0034563558, 0.005109076, 0.0049592867, 0.005853288, 0.005329902, 0.0039301105, 0.0047974307, 0.0064663705, 0.005386205, 0.0064784824, 0.0059148967, 0.0064195716, 0.0062031816, 0.005907008, 0.0047189877, 0.0042550717, 0.008300498, 0.005994758, 0.004805569, 0.0059777326, 0.0050437534, 0.004967569, 0.0059438553, 0.0050422642, 0.0038259916, 0.0049243746, 0.010465935, 0.0045888084, 0.0058484487, 0.0035239689, 0.0069313613, 0.005566192, 0.004725916, 0.0049421703, 0.0054762126, 0.0043869596, 0.005348151, 0.006768818, 0.004354836, 0.0054892343, 0.0062300228, 0.0062272344, 0.0073437896, 0.0055896463, 0.0052792514, 0.0055117984, 0.00415234, 0.004401095, 0.005563971, 0.005321516, 0.0039840788, 0.0049588666, 0.0050996, 0.0048903194, 0.004730893, 0.0038435522, 0.0076932837, 0.0075720605, 0.0043612476, 0.0061462116, 0.00461597, 0.00490253, 0.0045622108, 0.0047375923, 0.0053372392, 0.0058148196, 0.004672714, 0.0044950163, 0.0042335894, 0.0055917553, 0.006710246, 0.0052483403, 0.006858561, 0.010451599, 0.0043076198, 0.004762229, 0.005156697, 0.004454376, 0.007100137, 0.0051830043, 0.0048859543, 0.0059635006, 0.0051784813, 0.0051911403, 0.0045627835, 0.005011198, 0.0054345573, 0.005888198, 0.006539026, 0.005742961, 0.0061542597, 0.0059223534, 0.006444121, 0.0056884415, 0.004284213, 0.005094228, 0.0048401607, 0.0056379586, 0.006763131, 0.005012522, 0.0040070205, 0.004737156, 0.0045643346, 0.004856399, 0.0059517855, 0.004459313, 0.004317627, 0.004349835, 0.0054755737, 0.005474251, 0.004705742]\n",
            "0.008642280125059187\n"
          ]
        }
      ],
      "source": [
        "losses_train = [] \n",
        "for i in range(np.shape(t1_align_norm)[0]):\n",
        "  predicted_train = autoencoder.predict(t1_align_norm[i:i+1])\n",
        "  losses_train.append(np.mean(np.square(predicted_train-t1_align_norm[i:i+1])))\n",
        "print(losses_train)\n",
        "threshold = np.mean(losses_train)+3*np.std(losses_train)\n",
        "print(threshold)"
      ]
    },
    {
      "cell_type": "code",
      "source": [
        "predicted_train_all = autoencoder.predict(t1_align_norm)\n",
        "losses_train_all = (np.square(predicted_train_all - t1_align_norm)).mean(axis=(1,2,3,4))\n",
        "#print(losses_train_all)\n",
        "threshold = np.mean(losses_train_all)+np.std(losses_train_all)\n",
        "print(threshold)"
      ],
      "metadata": {
        "id": "PxxIFycc83Lt"
      },
      "execution_count": null,
      "outputs": []
    },
    {
      "cell_type": "code",
      "source": [
        "#predicted_validation_all = autoencoder.predict(t1_align_norm)\n",
        "#losses_validation_all = (np.square(predicted_validation_all - t1_align_norm)).mean(axis=(1,2,3,4))\n",
        "#print(losses_validation_all)\n",
        "wrong_predicts = 0\n",
        "for loss in losses_train:\n",
        "  if loss >= threshold:\n",
        "    wrong_predicts += 1\n",
        "accuracy = (len(losses_train)-wrong_predicts)/(len(losses_train))\n",
        "print(f'accuracy in identifying the correct alignments: {accuracy*100} percent')"
      ],
      "metadata": {
        "colab": {
          "base_uri": "https://localhost:8080/"
        },
        "id": "SlEYWHJvvK3e",
        "outputId": "6b6bc78d-614d-4f37-e54e-586414ab92a9"
      },
      "execution_count": null,
      "outputs": [
        {
          "output_type": "stream",
          "name": "stdout",
          "text": [
            "accuracy in identifying the correct alignments: 99.25 percent\n"
          ]
        }
      ]
    },
    {
      "cell_type": "code",
      "source": [
        "def test_autoencoder(test):\n",
        "  test = crop_input(test, 2)\n",
        "  test = normalize(test)\n",
        "  test = np.expand_dims(test, axis = -1)\n",
        "\n",
        "  losses_test = [] \n",
        "\n",
        "  for i in range(np.shape(test)[0]):\n",
        "    predicted_test = autoencoder.predict(test[i:i+1])\n",
        "    losses_test.append(np.mean(np.square(predicted_test-test[i:i+1])))\n",
        "  #predicted_fail = autoencoder.predict(t1_test)\n",
        "  #losses_fail = (np.square(predicted_fail - t1_test)).mean(axis=(1,2,3,4))\n",
        "  wrong_predicts = 0\n",
        "  for loss in losses_test:\n",
        "    if loss >= threshold:\n",
        "      wrong_predicts += 1\n",
        "  accuracy = (len(losses_test)-wrong_predicts)/(len(losses_test))\n",
        "  print(f'accuracy in identifying the  misalignments: {accuracy*100} percent')\n",
        "\n",
        "  return losses_test"
      ],
      "metadata": {
        "id": "dDT59LkHLvSn"
      },
      "execution_count": null,
      "outputs": []
    },
    {
      "cell_type": "code",
      "source": [
        "#abide_mni = np.load('/content/drive/MyDrive/Datasets/unsupervisedQC/T1-mni-dsf2-abide.npy')\n",
        "#losses_abide = test_autoencoder(abide_mni)\n",
        "#print(f'All losses: {losses_abide}')\n",
        "#print(f'Mean loss: {np.mean(losses_abide)}')\n",
        "\n",
        "#abide_mni_failed = np.load('/content/drive/MyDrive/Datasets/unsupervisedQC/T1-mni-dsf2-abide-failed.npy')\n",
        "#losses_abide_fail = test_autoencoder(abide_mni_failed)\n",
        "#print(f'All losses: {losses_abide_fail}')\n",
        "#print(f'Mean loss: {np.mean(losses_abide_fail)}')\n",
        "\n",
        "ixi_mni = np.load('/content/drive/MyDrive/Datasets/UnsupervisedQC/T1-mni-dsf2-HH.npy')\n",
        "losses_ixi = test_autoencoder(ixi_mni)\n",
        "print(f'All losses: {losses_ixi}')\n",
        "print(f'Mean loss: {np.mean(losses_ixi)}')\n",
        "\n",
        "ixi_mni_failed = np.load('/content/drive/MyDrive/Datasets/UnsupervisedQC/T1-mni-dsf2-ixi-failed.npy')\n",
        "losses_ixi_fail = test_autoencoder(ixi_mni_failed)\n",
        "print(f'All losses: {losses_ixi_fail}')\n",
        "print(f'Mean loss: {np.mean(losses_ixi_fail)}')"
      ],
      "metadata": {
        "colab": {
          "base_uri": "https://localhost:8080/"
        },
        "id": "kxGUCfpwFKZB",
        "outputId": "f0fc1f59-f671-4881-89e0-a69a48230458"
      },
      "execution_count": null,
      "outputs": [
        {
          "output_type": "stream",
          "name": "stdout",
          "text": [
            "shape of input is (80, 96, 80)\n",
            "accuracy in identifying the  misalignments: 0.0 percent\n",
            "All losses: [0.015571251, 0.012531814, 0.01675312, 0.014505992, 0.012851728, 0.017231612, 0.011610996, 0.015371541, 0.013561511, 0.013174829, 0.012792616, 0.013233898, 0.014615626, 0.0124765225, 0.012978543, 0.011891813, 0.011117395, 0.020562336, 0.012802289, 0.0149080735, 0.011106787, 0.0145768225, 0.0139752105, 0.014462003, 0.011441875, 0.011716042, 0.016765134, 0.015301266, 0.014149273, 0.012441763, 0.015937617, 0.013577108, 0.013804994, 0.012244515, 0.014418076, 0.011877601, 0.01479184, 0.012452505, 0.0134919025, 0.015711064, 0.012051708, 0.0136723835, 0.011774419, 0.0128205065, 0.01926841, 0.011112643, 0.013012304, 0.014101977, 0.014722433, 0.015006075, 0.014189138, 0.013648078, 0.011367773, 0.016370509, 0.021599004, 0.014660462, 0.01185351, 0.015265522, 0.013868481, 0.015594168, 0.017550321, 0.012113098, 0.013738162, 0.014123264, 0.013516725, 0.014477509, 0.012079426, 0.016867403, 0.013894531, 0.0107322065, 0.016023867, 0.015263384, 0.011858016, 0.016644433, 0.012055134, 0.0147869075, 0.015605866, 0.016383983, 0.013298365, 0.014346978, 0.013424983, 0.014858761, 0.012673076, 0.00991717, 0.015075531, 0.011375204, 0.0114859855, 0.015868904, 0.018101074, 0.01758666, 0.018238356, 0.017455239, 0.014141666, 0.015501162, 0.016789796, 0.0129771205, 0.013999532, 0.013348686, 0.017992169, 0.015589723, 0.015023191, 0.011962472, 0.01549966, 0.0107270405, 0.014509104, 0.012408903, 0.01838346, 0.015123695, 0.012538111, 0.015954798, 0.013987222, 0.015055904, 0.011930904, 0.014029482, 0.018704388, 0.0119676255, 0.016294478, 0.014350211, 0.012726453, 0.017335659, 0.016159875, 0.01766537, 0.015633253, 0.013918414, 0.01603136, 0.015696516, 0.017471882, 0.02131509, 0.01382531, 0.016374942, 0.0155032175, 0.022427715, 0.013697615, 0.013349902, 0.01544721, 0.012951739, 0.017005157, 0.0109878285, 0.014432109, 0.015179359, 0.012585328, 0.014758811, 0.015626252, 0.015025017, 0.024136942, 0.012585974, 0.012225195, 0.015024773, 0.011305399, 0.016888449, 0.014641825, 0.012610783, 0.011201408, 0.012257245, 0.017753545, 0.014181866, 0.016863242, 0.018793924, 0.013068463, 0.013067847, 0.015461178, 0.015968528, 0.01695716, 0.019273374, 0.016749976, 0.011453083, 0.011935335, 0.014515063, 0.013782051, 0.014243549, 0.012145046, 0.010879359, 0.015195432, 0.0128695015, 0.011711193, 0.010703914, 0.013822097, 0.012894335, 0.014049476, 0.012240952, 0.019379204, 0.011389464]\n",
            "Mean loss: 0.014441290870308876\n",
            "shape of input is (80, 96, 80)\n",
            "accuracy in identifying the  misalignments: 3.125 percent\n",
            "All losses: [0.016739838, 0.015363664, 0.01134112, 0.019365976, 0.031310484, 0.019354444, 0.012011502, 0.010502967, 0.0143650975, 0.011674522, 0.020674342, 0.017290829, 0.013205545, 0.010009357, 0.020639528, 0.02057856, 0.016182901, 0.019351425, 0.021152878, 0.023020161, 0.012647055, 0.009109292, 0.019539038, 0.01881897, 0.024678105, 0.018060721, 0.018804373, 0.02046243, 0.008394256, 0.012549649, 0.009936428, 0.018106462]\n",
            "Mean loss: 0.016726309433579445\n"
          ]
        }
      ]
    },
    {
      "cell_type": "code",
      "source": [
        "indices_T1_align = [10, 14, 18, 19, 21, 22, 23, 24, 25, 26, 28]\n",
        "indices_T1_mni = [2, 6, 7, 8, 9, 10, 21, 29]\n",
        "indices_T2_align = [1, 3, 4, 5, 13, 14, 15, 16, 17, 18, 19, 22, 23, 24, 26, 27, 28, 30, 31]\n",
        "indices_T2_mni = [1, 2, 3, 4, 5, 6, 7, 8, 9, 11, 12, 14, 15, 16, 17, 20, 21, 24, 27, 29, 30, 31]"
      ],
      "metadata": {
        "id": "TNZpBSNfEzwU"
      },
      "execution_count": null,
      "outputs": []
    },
    {
      "cell_type": "code",
      "source": [
        "actual_failures = []\n",
        "for index in indices_T2_mni:\n",
        "  actual_failures.append(losses_ixi_fail[index])\n",
        "\n",
        "print(actual_failures)\n",
        "print(np.mean(actual_failures))"
      ],
      "metadata": {
        "colab": {
          "base_uri": "https://localhost:8080/"
        },
        "id": "gK5i7FlKKd4t",
        "outputId": "bce59468-d79e-480f-f946-e5ca06a25904"
      },
      "execution_count": null,
      "outputs": [
        {
          "output_type": "stream",
          "name": "stdout",
          "text": [
            "[0.02997448, 0.016187035, 0.025841583, 0.030743757, 0.023037288, 0.014290716, 0.0137272775, 0.013848701, 0.012831818, 0.02428404, 0.01468209, 0.03131163, 0.031171294, 0.031314906, 0.03332436, 0.01554757, 0.014090244, 0.033547733, 0.022200705, 0.013372619, 0.015582716, 0.025810005]\n",
            "0.022123752\n"
          ]
        }
      ]
    },
    {
      "cell_type": "code",
      "source": [
        "import matplotlib.pyplot as plt\n",
        "\n",
        "plt.plot(actual_failures, 'g')\n",
        "plt.plot(losses_ixi, 'r')\n",
        "plt.plot(losses_train, 'b')\n",
        "plt.legend(['actual failures', 'correctly aligned test', 'correctly aligned train'])\n",
        "plt.show()"
      ],
      "metadata": {
        "colab": {
          "base_uri": "https://localhost:8080/",
          "height": 269
        },
        "id": "vBgQsb8TUQ9b",
        "outputId": "83fd28f8-7be3-4ad0-944c-511e24ee59e5"
      },
      "execution_count": null,
      "outputs": [
        {
          "output_type": "display_data",
          "data": {
            "text/plain": [
              "<Figure size 432x288 with 1 Axes>"
            ],
            "image/png": "[encoded data removed]"
          },
          "metadata": {
            "needs_background": "light"
          }
        }
      ]
    }
  ],
  "metadata": {
    "accelerator": "GPU",
    "colab": {
      "machine_shape": "hm",
      "name": "QC_unsupervised.ipynb",
      "provenance": [],
      "collapsed_sections": [],
      "authorship_tag": "ABX9TyOo+xri5kcgKP5OgVWPr9tw",
      "include_colab_link": true
    },
    "kernelspec": {
      "display_name": "Python 3",
      "name": "python3"
    },
    "language_info": {
      "name": "python"
    }
  },
  "nbformat": 4,
  "nbformat_minor": 0
}